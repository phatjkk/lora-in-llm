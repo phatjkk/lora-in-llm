{
  "nbformat": 4,
  "nbformat_minor": 0,
  "metadata": {
    "colab": {
      "provenance": []
    },
    "kernelspec": {
      "name": "python3",
      "display_name": "Python 3"
    },
    "language_info": {
      "name": "python"
    }
  },
  "cells": [
    {
      "cell_type": "code",
      "execution_count": 1,
      "metadata": {
        "colab": {
          "base_uri": "https://localhost:8080/"
        },
        "id": "hZpQEpDqjSNh",
        "outputId": "64f7e3a9-b7c5-4435-8890-c472fa9306ef"
      },
      "outputs": [
        {
          "output_type": "stream",
          "name": "stdout",
          "text": [
            "Cloning into 'Sophia'...\n",
            "remote: Enumerating objects: 134, done.\u001b[K\n",
            "remote: Counting objects: 100% (14/14), done.\u001b[K\n",
            "remote: Compressing objects: 100% (4/4), done.\u001b[K\n",
            "remote: Total 134 (delta 11), reused 10 (delta 10), pack-reused 120\u001b[K\n",
            "Receiving objects: 100% (134/134), 199.92 KiB | 2.94 MiB/s, done.\n",
            "Resolving deltas: 100% (83/83), done.\n"
          ]
        }
      ],
      "source": [
        "!git clone https://github.com/Liuhong99/Sophia.git"
      ]
    },
    {
      "cell_type": "code",
      "source": [
        "%load Sophia/sophia.py"
      ],
      "metadata": {
        "id": "wM3CDt17jeFL"
      },
      "execution_count": 2,
      "outputs": []
    },
    {
      "cell_type": "code",
      "source": [
        "!cp Sophia/sophia.py /content"
      ],
      "metadata": {
        "id": "1jZIg_TikALA"
      },
      "execution_count": 5,
      "outputs": []
    },
    {
      "cell_type": "code",
      "source": [
        "from sophia import SophiaG"
      ],
      "metadata": {
        "id": "R0BVFHkRjpYj"
      },
      "execution_count": 21,
      "outputs": []
    },
    {
      "cell_type": "code",
      "source": [
        "import numpy as np\n",
        "import torch\n",
        "import torch.nn as nn\n",
        "import torch.optim as optim"
      ],
      "metadata": {
        "colab": {
          "base_uri": "https://localhost:8080/"
        },
        "id": "2CCL8CJ5m7KT",
        "outputId": "9da2d933-4f9a-419e-a70d-824237037ff2"
      },
      "execution_count": 69,
      "outputs": [
        {
          "output_type": "execute_result",
          "data": {
            "text/plain": [
              "<torch._C.Generator at 0x7f3d605f5ef0>"
            ]
          },
          "metadata": {},
          "execution_count": 69
        }
      ]
    },
    {
      "cell_type": "markdown",
      "source": [
        "#Training Adam and Sophia"
      ],
      "metadata": {
        "id": "gOkPM42inCmy"
      }
    },
    {
      "cell_type": "code",
      "source": [
        "n_epochs = 50\n",
        "batch_size = 10\n",
        "torch.manual_seed(2)\n",
        "# load the dataset, split into input (X) and output (y) variables\n",
        "dataset = np.loadtxt('https://gist.githubusercontent.com/ktisha/c21e73a1bd1700294ef790c56c8aec1f/raw/819b69b5736821ccee93d05b51de0510bea00294/pima-indians-diabetes.csv', delimiter=',')\n",
        "X = dataset[:,0:8]\n",
        "y = dataset[:,8]\n",
        "\n",
        "X = torch.tensor(X, dtype=torch.float32)\n",
        "y = torch.tensor(y, dtype=torch.float32).reshape(-1, 1)\n",
        "\n",
        "# define the model\n",
        "modelAdam = nn.Sequential(\n",
        "    nn.Linear(8, 12),\n",
        "    nn.ReLU(),\n",
        "    nn.Linear(12, 8),\n",
        "    nn.ReLU(),\n",
        "    nn.Linear(8, 1),\n",
        "    nn.Sigmoid()\n",
        ")\n",
        "\n",
        "# define the model\n",
        "modelSophia = nn.Sequential(\n",
        "    nn.Linear(8, 12),\n",
        "    nn.ReLU(),\n",
        "    nn.Linear(12, 8),\n",
        "    nn.ReLU(),\n",
        "    nn.Linear(8, 1),\n",
        "    nn.Sigmoid()\n",
        ")\n",
        "\n",
        "# train the model\n",
        "loss_fn   = nn.BCELoss()  # binary cross entropy\n",
        "optimizerAdam = optim.Adam(modelAdam.parameters(), lr=0.001)\n",
        "loss_Adam = []\n",
        "\n",
        "for epoch in range(n_epochs):\n",
        "    for i in range(0, len(X), batch_size):\n",
        "        Xbatch = X[i:i+batch_size]\n",
        "        y_pred = modelAdam(Xbatch)\n",
        "        ybatch = y[i:i+batch_size]\n",
        "        loss = loss_fn(y_pred, ybatch)\n",
        "        optimizerAdam.zero_grad()\n",
        "        loss.backward()\n",
        "        optimizerAdam.step()\n",
        "    loss_Adam.append(loss.tolist())\n",
        "\n",
        "# train the model\n",
        "loss_fn   = nn.BCELoss()  # binary cross entropy\n",
        "optimizerSophia = SophiaG(modelSophia.parameters(), lr=0.001, betas=(0.95, 0.99), rho = 0.5, weight_decay=0.1)\n",
        "loss_Sophia = []\n",
        "\n",
        "for epoch in range(n_epochs):\n",
        "    for i in range(0, len(X), batch_size):\n",
        "        Xbatch = X[i:i+batch_size]\n",
        "        y_pred = modelSophia(Xbatch)\n",
        "        ybatch = y[i:i+batch_size]\n",
        "        loss = loss_fn(y_pred, ybatch)\n",
        "        optimizerSophia.zero_grad()\n",
        "        loss.backward()\n",
        "        optimizerSophia.step()\n",
        "    loss_Sophia.append(loss.tolist())\n",
        "\n",
        "import matplotlib.pyplot as plt\n",
        "x_r = range(len(loss_Sophia))\n",
        "plt.plot(x_r,loss_Sophia,label=\"Sophia\")\n",
        "plt.plot(x_r,loss_Adam,label=\"Adam\")\n",
        "plt.legend()\n",
        "plt.show()\n",
        "\n",
        "# compute accuracy (no_grad is optional)\n",
        "with torch.no_grad():\n",
        "    y_pred = modelAdam(X)\n",
        "accuracy = (y_pred.round() == y).float().mean()\n",
        "print(f\"Accuracy Adam: {accuracy}\")\n",
        "\n",
        "with torch.no_grad():\n",
        "    y_pred = modelSophia(X)\n",
        "accuracy = (y_pred.round() == y).float().mean()\n",
        "print(f\"Accuracy Sophia: {accuracy}\")"
      ],
      "metadata": {
        "colab": {
          "base_uri": "https://localhost:8080/",
          "height": 465
        },
        "id": "4NTV1AkVkezc",
        "outputId": "ab9de6b3-1850-45bf-c34a-b8405d6f2b20"
      },
      "execution_count": 97,
      "outputs": [
        {
          "output_type": "display_data",
          "data": {
            "text/plain": [
              "<Figure size 640x480 with 1 Axes>"
            ],
            "image/png": "[encoded data removed]"
          },
          "metadata": {}
        },
        {
          "output_type": "stream",
          "name": "stdout",
          "text": [
            "Accuracy Adam: 0.7317708134651184\n",
            "Accuracy Sophia: 0.6510416865348816\n"
          ]
        }
      ]
    }
  ]
}