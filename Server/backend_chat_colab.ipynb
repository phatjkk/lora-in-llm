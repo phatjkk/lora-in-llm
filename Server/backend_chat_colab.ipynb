{
  "nbformat": 4,
  "nbformat_minor": 0,
  "metadata": {
    "colab": {
      "provenance": []
    },
    "kernelspec": {
      "name": "python3",
      "display_name": "Python 3"
    },
    "language_info": {
      "name": "python"
    }
  },
  "cells": [
    {
      "cell_type": "code",
      "execution_count": 1,
      "metadata": {
        "colab": {
          "base_uri": "https://localhost:8080/"
        },
        "id": "A99dFQQAShbC",
        "outputId": "febfa676-33fd-4e1f-b8d1-50c7bf745cae"
      },
      "outputs": [
        {
          "output_type": "stream",
          "name": "stdout",
          "text": [
            "--2023-07-01 11:50:41--  https://github.com/phatjkk/lora-in-llm/raw/main/bloomz-lora-vi-chatbot.zip\n",
            "Resolving github.com (github.com)... 192.30.255.113\n",
            "Connecting to github.com (github.com)|192.30.255.113|:443... connected.\n",
            "HTTP request sent, awaiting response... 302 Found\n",
            "Location: https://raw.githubusercontent.com/phatjkk/lora-in-llm/main/bloomz-lora-vi-chatbot.zip [following]\n",
            "--2023-07-01 11:50:42--  https://raw.githubusercontent.com/phatjkk/lora-in-llm/main/bloomz-lora-vi-chatbot.zip\n",
            "Resolving raw.githubusercontent.com (raw.githubusercontent.com)... 185.199.108.133, 185.199.109.133, 185.199.110.133, ...\n",
            "Connecting to raw.githubusercontent.com (raw.githubusercontent.com)|185.199.108.133|:443... connected.\n",
            "HTTP request sent, awaiting response... 200 OK\n",
            "Length: 8650600 (8.2M) [application/zip]\n",
            "Saving to: ‘bloomz-lora-vi-chatbot.zip’\n",
            "\n",
            "bloomz-lora-vi-chat 100%[===================>]   8.25M  --.-KB/s    in 0.06s   \n",
            "\n",
            "2023-07-01 11:50:42 (137 MB/s) - ‘bloomz-lora-vi-chatbot.zip’ saved [8650600/8650600]\n",
            "\n"
          ]
        }
      ],
      "source": [
        "!wget https://github.com/phatjkk/lora-in-llm/raw/main/bloomz-lora-vi-chatbot.zip"
      ]
    },
    {
      "cell_type": "code",
      "source": [
        "!unzip bloomz-lora-vi-chatbot.zip -d /content/bloomz-lora-vi-chatbot"
      ],
      "metadata": {
        "colab": {
          "base_uri": "https://localhost:8080/"
        },
        "id": "g8j-sCgtSqp9",
        "outputId": "735cb0b6-2a2e-4ce8-fcca-25976cd4d104"
      },
      "execution_count": 2,
      "outputs": [
        {
          "output_type": "stream",
          "name": "stdout",
          "text": [
            "Archive:  bloomz-lora-vi-chatbot.zip\n",
            "   creating: /content/bloomz-lora-vi-chatbot/bloomz-lora-en-ecommerce/\n",
            "  inflating: /content/bloomz-lora-vi-chatbot/bloomz-lora-en-ecommerce/tokenizer_config.json  \n",
            "  inflating: /content/bloomz-lora-vi-chatbot/bloomz-lora-en-ecommerce/adapter_model.bin  \n",
            "  inflating: /content/bloomz-lora-vi-chatbot/bloomz-lora-en-ecommerce/tokenizer.json  \n",
            "  inflating: /content/bloomz-lora-vi-chatbot/bloomz-lora-en-ecommerce/README.md  \n",
            "  inflating: /content/bloomz-lora-vi-chatbot/bloomz-lora-en-ecommerce/adapter_config.json  \n",
            "  inflating: /content/bloomz-lora-vi-chatbot/bloomz-lora-en-ecommerce/special_tokens_map.json  \n"
          ]
        }
      ]
    },
    {
      "cell_type": "code",
      "source": [
        "!pip install -q git+https://github.com/huggingface/transformers.git@main git+https://github.com/huggingface/peft.git"
      ],
      "metadata": {
        "colab": {
          "base_uri": "https://localhost:8080/"
        },
        "id": "-sHVPpr8TFe_",
        "outputId": "4aa6e0ec-a6e2-477e-d9e3-a49eb61feb68"
      },
      "execution_count": 3,
      "outputs": [
        {
          "output_type": "stream",
          "name": "stdout",
          "text": [
            "  Installing build dependencies ... \u001b[?25l\u001b[?25hdone\n",
            "  Getting requirements to build wheel ... \u001b[?25l\u001b[?25hdone\n",
            "  Preparing metadata (pyproject.toml) ... \u001b[?25l\u001b[?25hdone\n",
            "  Installing build dependencies ... \u001b[?25l\u001b[?25hdone\n",
            "  Getting requirements to build wheel ... \u001b[?25l\u001b[?25hdone\n",
            "  Preparing metadata (pyproject.toml) ... \u001b[?25l\u001b[?25hdone\n",
            "\u001b[2K     \u001b[90m━━━━━━━━━━━━━━━━━━━━━━━━━━━━━━━━━━━━━━━\u001b[0m \u001b[32m236.8/236.8 kB\u001b[0m \u001b[31m4.1 MB/s\u001b[0m eta \u001b[36m0:00:00\u001b[0m\n",
            "\u001b[2K     \u001b[90m━━━━━━━━━━━━━━━━━━━━━━━━━━━━━━━━━━━━━━━━\u001b[0m \u001b[32m7.8/7.8 MB\u001b[0m \u001b[31m66.2 MB/s\u001b[0m eta \u001b[36m0:00:00\u001b[0m\n",
            "\u001b[2K     \u001b[90m━━━━━━━━━━━━━━━━━━━━━━━━━━━━━━━━━━━━━━━━\u001b[0m \u001b[32m1.3/1.3 MB\u001b[0m \u001b[31m50.9 MB/s\u001b[0m eta \u001b[36m0:00:00\u001b[0m\n",
            "\u001b[2K     \u001b[90m━━━━━━━━━━━━━━━━━━━━━━━━━━━━━━━━━━━━━━\u001b[0m \u001b[32m227.6/227.6 kB\u001b[0m \u001b[31m21.5 MB/s\u001b[0m eta \u001b[36m0:00:00\u001b[0m\n",
            "\u001b[?25h  Building wheel for transformers (pyproject.toml) ... \u001b[?25l\u001b[?25hdone\n",
            "  Building wheel for peft (pyproject.toml) ... \u001b[?25l\u001b[?25hdone\n"
          ]
        }
      ]
    },
    {
      "cell_type": "code",
      "source": [
        "from transformers import AutoTokenizer, AutoModelForCausalLM\n",
        "from peft import PeftModel, PeftConfig\n",
        "model_path = \"./bloomz-lora-vi-chatbot/bloomz-lora-en-ecommerce/\"\n",
        "config = PeftConfig.from_pretrained(model_path)\n",
        "\n",
        "# load base LLM model and tokenizer\n",
        "tokenizer_from_file = AutoTokenizer.from_pretrained(config.base_model_name_or_path)\n",
        "model_from_file = AutoModelForCausalLM.from_pretrained(config.base_model_name_or_path).to(\"cuda\")"
      ],
      "metadata": {
        "id": "cW0rnIOQS6_J"
      },
      "execution_count": 6,
      "outputs": []
    },
    {
      "cell_type": "code",
      "source": [
        "!pip install flask flask_ngrok flask_cors  pyngrok"
      ],
      "metadata": {
        "colab": {
          "base_uri": "https://localhost:8080/"
        },
        "id": "oBBJjpXNUdzq",
        "outputId": "361d72b5-5ae0-4a00-90ec-e3e50824ff3f"
      },
      "execution_count": 12,
      "outputs": [
        {
          "output_type": "stream",
          "name": "stdout",
          "text": [
            "Requirement already satisfied: flask in /usr/local/lib/python3.10/dist-packages (2.2.5)\n",
            "Requirement already satisfied: flask_ngrok in /usr/local/lib/python3.10/dist-packages (0.0.25)\n",
            "Requirement already satisfied: flask_cors in /usr/local/lib/python3.10/dist-packages (4.0.0)\n",
            "Collecting pyngrok\n",
            "  Downloading pyngrok-6.0.0.tar.gz (681 kB)\n",
            "\u001b[2K     \u001b[90m━━━━━━━━━━━━━━━━━━━━━━━━━━━━━━━━━━━━━━\u001b[0m \u001b[32m681.2/681.2 kB\u001b[0m \u001b[31m17.4 MB/s\u001b[0m eta \u001b[36m0:00:00\u001b[0m\n",
            "\u001b[?25h  Preparing metadata (setup.py) ... \u001b[?25l\u001b[?25hdone\n",
            "Requirement already satisfied: Werkzeug>=2.2.2 in /usr/local/lib/python3.10/dist-packages (from flask) (2.3.6)\n",
            "Requirement already satisfied: Jinja2>=3.0 in /usr/local/lib/python3.10/dist-packages (from flask) (3.1.2)\n",
            "Requirement already satisfied: itsdangerous>=2.0 in /usr/local/lib/python3.10/dist-packages (from flask) (2.1.2)\n",
            "Requirement already satisfied: click>=8.0 in /usr/local/lib/python3.10/dist-packages (from flask) (8.1.3)\n",
            "Requirement already satisfied: requests in /usr/local/lib/python3.10/dist-packages (from flask_ngrok) (2.27.1)\n",
            "Requirement already satisfied: PyYAML in /usr/local/lib/python3.10/dist-packages (from pyngrok) (6.0)\n",
            "Requirement already satisfied: MarkupSafe>=2.0 in /usr/local/lib/python3.10/dist-packages (from Jinja2>=3.0->flask) (2.1.3)\n",
            "Requirement already satisfied: urllib3<1.27,>=1.21.1 in /usr/local/lib/python3.10/dist-packages (from requests->flask_ngrok) (1.26.16)\n",
            "Requirement already satisfied: certifi>=2017.4.17 in /usr/local/lib/python3.10/dist-packages (from requests->flask_ngrok) (2023.5.7)\n",
            "Requirement already satisfied: charset-normalizer~=2.0.0 in /usr/local/lib/python3.10/dist-packages (from requests->flask_ngrok) (2.0.12)\n",
            "Requirement already satisfied: idna<4,>=2.5 in /usr/local/lib/python3.10/dist-packages (from requests->flask_ngrok) (3.4)\n",
            "Building wheels for collected packages: pyngrok\n",
            "  Building wheel for pyngrok (setup.py) ... \u001b[?25l\u001b[?25hdone\n",
            "  Created wheel for pyngrok: filename=pyngrok-6.0.0-py3-none-any.whl size=19867 sha256=5fba48d2e3f82c51c919b27e7858e6dfc373edcd2f949ffaab7c71f424a655af\n",
            "  Stored in directory: /root/.cache/pip/wheels/5c/42/78/0c3d438d7f5730451a25f7ac6cbf4391759d22a67576ed7c2c\n",
            "Successfully built pyngrok\n",
            "Installing collected packages: pyngrok\n",
            "Successfully installed pyngrok-6.0.0\n"
          ]
        }
      ]
    },
    {
      "cell_type": "code",
      "source": [
        "from flask import Flask,jsonify, request\n",
        "from flask_cors import CORS\n",
        "from pyngrok import ngrok\n",
        "import re"
      ],
      "metadata": {
        "id": "RFCa0bTlVCg3"
      },
      "execution_count": 18,
      "outputs": []
    },
    {
      "cell_type": "code",
      "source": [
        "port_no = 5000\n",
        "\n",
        "app = Flask(__name__)\n",
        "ngrok.set_auth_token(\"2DKp381n48VDYpt5ruxGmNJAPhG_6bcFKtoFQ4TRqF8JvsDDn\")\n",
        "CORS(app,origins=['.*'])\n",
        "public_url =  ngrok.connect(port_no).public_url\n",
        "\n",
        "\n",
        "@app.route('/')\n",
        "def home():\n",
        "      return \"hello\"\n",
        "@app.route(\"/q\", methods=[\"POST\"])\n",
        "def returnJson():\n",
        "    parameter_value = request.form.get('m')\n",
        "    question3 = str(parameter_value)\n",
        "    prompt = \"Hỏi:\"+ question3 + '''\n",
        "        Đáp:'''\n",
        "    prompt\n",
        "    # In ra kết quả\n",
        "    inputs = tokenizer_from_file( prompt, return_tensors=\"pt\")\n",
        "    # Do biến inputs được lưu trên cpu mà model thì load trên gpu nên phải chuyển\n",
        "    # biến này lên gpu bằng hàm .to(\"cuda\")\n",
        "    with torch.autocast(\"cuda\"):\n",
        "      data = {}\n",
        "      outputs = model_from_file.generate(input_ids=inputs[\"input_ids\"].to(\"cuda\"),\n",
        "                              max_new_tokens=100,\n",
        "                              no_repeat_ngram_size=3,\n",
        "                              num_beams=3,\n",
        "                              num_return_sequences=1)\n",
        "\n",
        "      answer = tokenizer_from_file.batch_decode(outputs.detach().cpu().numpy(), skip_special_tokens=True)[0]\n",
        "\n",
        "      answer = re.findall(r\"(?<=Đáp: ).*\", answer)[0]\n",
        "\n",
        "      data = {\"answer\": answer}\n",
        "    return jsonify(data)\n",
        "\n",
        "\n",
        "print(f\"To acces the Gloable link please click {public_url}\")\n",
        "\n",
        "app.run(port=port_no)"
      ],
      "metadata": {
        "colab": {
          "base_uri": "https://localhost:8080/"
        },
        "id": "MLCDX0hvU6sT",
        "outputId": "e801f188-7db4-4fcd-9b04-ae0370b8af6d"
      },
      "execution_count": 30,
      "outputs": [
        {
          "output_type": "stream",
          "name": "stderr",
          "text": [
            "DEBUG:flask_cors.extension:Configuring CORS with resources: {'/*': {'origins': ['.*'], 'methods': 'DELETE, GET, HEAD, OPTIONS, PATCH, POST, PUT', 'allow_headers': ['.*'], 'expose_headers': None, 'supports_credentials': False, 'max_age': None, 'send_wildcard': False, 'automatic_options': True, 'vary_header': True, 'resources': '/*', 'intercept_exceptions': True, 'always_send': True}}\n",
            "WARNING:pyngrok.process.ngrok:t=2023-07-01T12:18:56+0000 lvl=warn msg=\"ngrok config file found at legacy location, move to XDG location\" xdg_path=/root/.config/ngrok/ngrok.yml legacy_path=/root/.ngrok2/ngrok.yml\n"
          ]
        },
        {
          "output_type": "stream",
          "name": "stdout",
          "text": [
            "To acces the Gloable link please click https://defe-104-196-251-62.ngrok-free.app\n",
            " * Serving Flask app '__main__'\n",
            " * Debug mode: off\n"
          ]
        },
        {
          "output_type": "stream",
          "name": "stderr",
          "text": [
            "INFO:werkzeug:\u001b[31m\u001b[1mWARNING: This is a development server. Do not use it in a production deployment. Use a production WSGI server instead.\u001b[0m\n",
            " * Running on http://127.0.0.1:5000\n",
            "INFO:werkzeug:\u001b[33mPress CTRL+C to quit\u001b[0m\n",
            "DEBUG:flask_cors.extension:Request to '/q' matches CORS resource '/*'. Using options: {'origins': ['.*'], 'methods': 'DELETE, GET, HEAD, OPTIONS, PATCH, POST, PUT', 'allow_headers': ['.*'], 'expose_headers': None, 'supports_credentials': False, 'max_age': None, 'send_wildcard': False, 'automatic_options': True, 'vary_header': True, 'resources': '/*', 'intercept_exceptions': True, 'always_send': True}\n",
            "DEBUG:flask_cors.core:Settings CORS headers: MultiDict([('Access-Control-Allow-Origin', '*')])\n",
            "INFO:werkzeug:127.0.0.1 - - [01/Jul/2023 12:19:40] \"POST /q HTTP/1.1\" 200 -\n",
            "DEBUG:flask_cors.extension:Request to '/q' matches CORS resource '/*'. Using options: {'origins': ['.*'], 'methods': 'DELETE, GET, HEAD, OPTIONS, PATCH, POST, PUT', 'allow_headers': ['.*'], 'expose_headers': None, 'supports_credentials': False, 'max_age': None, 'send_wildcard': False, 'automatic_options': True, 'vary_header': True, 'resources': '/*', 'intercept_exceptions': True, 'always_send': True}\n",
            "DEBUG:flask_cors.core:CORS request received with 'Origin' http://localhost:5173\n",
            "DEBUG:flask_cors.core:The request's Origin header matches. Sending CORS headers.\n",
            "DEBUG:flask_cors.core:Settings CORS headers: MultiDict([('Access-Control-Allow-Origin', 'http://localhost:5173'), ('Vary', 'Origin')])\n",
            "INFO:werkzeug:127.0.0.1 - - [01/Jul/2023 12:21:32] \"POST /q HTTP/1.1\" 200 -\n",
            "DEBUG:flask_cors.extension:Request to '/q' matches CORS resource '/*'. Using options: {'origins': ['.*'], 'methods': 'DELETE, GET, HEAD, OPTIONS, PATCH, POST, PUT', 'allow_headers': ['.*'], 'expose_headers': None, 'supports_credentials': False, 'max_age': None, 'send_wildcard': False, 'automatic_options': True, 'vary_header': True, 'resources': '/*', 'intercept_exceptions': True, 'always_send': True}\n",
            "DEBUG:flask_cors.core:CORS request received with 'Origin' http://localhost:5173\n",
            "DEBUG:flask_cors.core:The request's Origin header matches. Sending CORS headers.\n",
            "DEBUG:flask_cors.core:Settings CORS headers: MultiDict([('Access-Control-Allow-Origin', 'http://localhost:5173'), ('Vary', 'Origin')])\n",
            "INFO:werkzeug:127.0.0.1 - - [01/Jul/2023 12:23:08] \"POST /q HTTP/1.1\" 200 -\n",
            "DEBUG:flask_cors.extension:Request to '/q' matches CORS resource '/*'. Using options: {'origins': ['.*'], 'methods': 'DELETE, GET, HEAD, OPTIONS, PATCH, POST, PUT', 'allow_headers': ['.*'], 'expose_headers': None, 'supports_credentials': False, 'max_age': None, 'send_wildcard': False, 'automatic_options': True, 'vary_header': True, 'resources': '/*', 'intercept_exceptions': True, 'always_send': True}\n",
            "DEBUG:flask_cors.core:CORS request received with 'Origin' http://localhost:5173\n",
            "DEBUG:flask_cors.core:The request's Origin header matches. Sending CORS headers.\n",
            "DEBUG:flask_cors.core:Settings CORS headers: MultiDict([('Access-Control-Allow-Origin', 'http://localhost:5173'), ('Vary', 'Origin')])\n",
            "INFO:werkzeug:127.0.0.1 - - [01/Jul/2023 12:23:52] \"POST /q HTTP/1.1\" 200 -\n",
            "DEBUG:flask_cors.extension:Request to '/q' matches CORS resource '/*'. Using options: {'origins': ['.*'], 'methods': 'DELETE, GET, HEAD, OPTIONS, PATCH, POST, PUT', 'allow_headers': ['.*'], 'expose_headers': None, 'supports_credentials': False, 'max_age': None, 'send_wildcard': False, 'automatic_options': True, 'vary_header': True, 'resources': '/*', 'intercept_exceptions': True, 'always_send': True}\n",
            "DEBUG:flask_cors.core:CORS request received with 'Origin' http://localhost:5173\n",
            "DEBUG:flask_cors.core:The request's Origin header matches. Sending CORS headers.\n",
            "DEBUG:flask_cors.core:Settings CORS headers: MultiDict([('Access-Control-Allow-Origin', 'http://localhost:5173'), ('Vary', 'Origin')])\n",
            "INFO:werkzeug:127.0.0.1 - - [01/Jul/2023 12:24:48] \"POST /q HTTP/1.1\" 200 -\n",
            "DEBUG:flask_cors.extension:Request to '/q' matches CORS resource '/*'. Using options: {'origins': ['.*'], 'methods': 'DELETE, GET, HEAD, OPTIONS, PATCH, POST, PUT', 'allow_headers': ['.*'], 'expose_headers': None, 'supports_credentials': False, 'max_age': None, 'send_wildcard': False, 'automatic_options': True, 'vary_header': True, 'resources': '/*', 'intercept_exceptions': True, 'always_send': True}\n",
            "DEBUG:flask_cors.core:CORS request received with 'Origin' http://localhost:5173\n",
            "DEBUG:flask_cors.core:The request's Origin header matches. Sending CORS headers.\n",
            "DEBUG:flask_cors.core:Settings CORS headers: MultiDict([('Access-Control-Allow-Origin', 'http://localhost:5173'), ('Vary', 'Origin')])\n",
            "INFO:werkzeug:127.0.0.1 - - [01/Jul/2023 12:30:47] \"POST /q HTTP/1.1\" 200 -\n",
            "DEBUG:flask_cors.extension:Request to '/q' matches CORS resource '/*'. Using options: {'origins': ['.*'], 'methods': 'DELETE, GET, HEAD, OPTIONS, PATCH, POST, PUT', 'allow_headers': ['.*'], 'expose_headers': None, 'supports_credentials': False, 'max_age': None, 'send_wildcard': False, 'automatic_options': True, 'vary_header': True, 'resources': '/*', 'intercept_exceptions': True, 'always_send': True}\n",
            "DEBUG:flask_cors.core:CORS request received with 'Origin' http://localhost:5173\n",
            "DEBUG:flask_cors.core:The request's Origin header matches. Sending CORS headers.\n",
            "DEBUG:flask_cors.core:Settings CORS headers: MultiDict([('Access-Control-Allow-Origin', 'http://localhost:5173'), ('Vary', 'Origin')])\n",
            "INFO:werkzeug:127.0.0.1 - - [01/Jul/2023 12:31:49] \"POST /q HTTP/1.1\" 200 -\n",
            "DEBUG:flask_cors.extension:Request to '/q' matches CORS resource '/*'. Using options: {'origins': ['.*'], 'methods': 'DELETE, GET, HEAD, OPTIONS, PATCH, POST, PUT', 'allow_headers': ['.*'], 'expose_headers': None, 'supports_credentials': False, 'max_age': None, 'send_wildcard': False, 'automatic_options': True, 'vary_header': True, 'resources': '/*', 'intercept_exceptions': True, 'always_send': True}\n",
            "DEBUG:flask_cors.core:CORS request received with 'Origin' http://localhost:5173\n",
            "DEBUG:flask_cors.core:The request's Origin header matches. Sending CORS headers.\n",
            "DEBUG:flask_cors.core:Settings CORS headers: MultiDict([('Access-Control-Allow-Origin', 'http://localhost:5173'), ('Vary', 'Origin')])\n",
            "INFO:werkzeug:127.0.0.1 - - [01/Jul/2023 12:33:43] \"POST /q HTTP/1.1\" 200 -\n"
          ]
        }
      ]
    }
  ]
}